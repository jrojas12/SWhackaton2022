{
 "cells": [
  {
   "cell_type": "code",
   "execution_count": 1,
   "id": "feb85a67",
   "metadata": {},
   "outputs": [],
   "source": [
    "# Import necessary packages\n",
    "import os \n",
    "import folium\n",
    "from folium import plugins\n",
    "import earthpy as et\n",
    "import earthpy.spatial as es\n",
    "import pandas as pd\n",
    "import numpy as np\n",
    "from math import log10"
   ]
  },
  {
   "cell_type": "code",
   "execution_count": 2,
   "id": "a012a652",
   "metadata": {},
   "outputs": [
    {
     "data": {
      "text/html": [
       "<div>\n",
       "<style scoped>\n",
       "    .dataframe tbody tr th:only-of-type {\n",
       "        vertical-align: middle;\n",
       "    }\n",
       "\n",
       "    .dataframe tbody tr th {\n",
       "        vertical-align: top;\n",
       "    }\n",
       "\n",
       "    .dataframe thead th {\n",
       "        text-align: right;\n",
       "    }\n",
       "</style>\n",
       "<table border=\"1\" class=\"dataframe\">\n",
       "  <thead>\n",
       "    <tr style=\"text-align: right;\">\n",
       "      <th></th>\n",
       "      <th>iso_code</th>\n",
       "      <th>country</th>\n",
       "      <th>year</th>\n",
       "      <th>co2</th>\n",
       "      <th>co2_per_capita</th>\n",
       "      <th>trade_co2</th>\n",
       "      <th>cement_co2</th>\n",
       "      <th>cement_co2_per_capita</th>\n",
       "      <th>coal_co2</th>\n",
       "      <th>coal_co2_per_capita</th>\n",
       "      <th>...</th>\n",
       "      <th>ghg_excluding_lucf_per_capita</th>\n",
       "      <th>methane</th>\n",
       "      <th>methane_per_capita</th>\n",
       "      <th>nitrous_oxide</th>\n",
       "      <th>nitrous_oxide_per_capita</th>\n",
       "      <th>population</th>\n",
       "      <th>gdp</th>\n",
       "      <th>primary_energy_consumption</th>\n",
       "      <th>energy_per_capita</th>\n",
       "      <th>energy_per_gdp</th>\n",
       "    </tr>\n",
       "  </thead>\n",
       "  <tbody>\n",
       "    <tr>\n",
       "      <th>0</th>\n",
       "      <td>AFG</td>\n",
       "      <td>Afghanistan</td>\n",
       "      <td>1949</td>\n",
       "      <td>0.015</td>\n",
       "      <td>0.002</td>\n",
       "      <td>NaN</td>\n",
       "      <td>NaN</td>\n",
       "      <td>NaN</td>\n",
       "      <td>0.015</td>\n",
       "      <td>0.002</td>\n",
       "      <td>...</td>\n",
       "      <td>NaN</td>\n",
       "      <td>NaN</td>\n",
       "      <td>NaN</td>\n",
       "      <td>NaN</td>\n",
       "      <td>NaN</td>\n",
       "      <td>7624058.0</td>\n",
       "      <td>NaN</td>\n",
       "      <td>NaN</td>\n",
       "      <td>NaN</td>\n",
       "      <td>NaN</td>\n",
       "    </tr>\n",
       "    <tr>\n",
       "      <th>1</th>\n",
       "      <td>AFG</td>\n",
       "      <td>Afghanistan</td>\n",
       "      <td>1950</td>\n",
       "      <td>0.084</td>\n",
       "      <td>0.011</td>\n",
       "      <td>NaN</td>\n",
       "      <td>NaN</td>\n",
       "      <td>NaN</td>\n",
       "      <td>0.021</td>\n",
       "      <td>0.003</td>\n",
       "      <td>...</td>\n",
       "      <td>NaN</td>\n",
       "      <td>NaN</td>\n",
       "      <td>NaN</td>\n",
       "      <td>NaN</td>\n",
       "      <td>NaN</td>\n",
       "      <td>7752117.0</td>\n",
       "      <td>9.421400e+09</td>\n",
       "      <td>NaN</td>\n",
       "      <td>NaN</td>\n",
       "      <td>NaN</td>\n",
       "    </tr>\n",
       "    <tr>\n",
       "      <th>2</th>\n",
       "      <td>AFG</td>\n",
       "      <td>Afghanistan</td>\n",
       "      <td>1951</td>\n",
       "      <td>0.092</td>\n",
       "      <td>0.012</td>\n",
       "      <td>NaN</td>\n",
       "      <td>NaN</td>\n",
       "      <td>NaN</td>\n",
       "      <td>0.026</td>\n",
       "      <td>0.003</td>\n",
       "      <td>...</td>\n",
       "      <td>NaN</td>\n",
       "      <td>NaN</td>\n",
       "      <td>NaN</td>\n",
       "      <td>NaN</td>\n",
       "      <td>NaN</td>\n",
       "      <td>7840151.0</td>\n",
       "      <td>9.692280e+09</td>\n",
       "      <td>NaN</td>\n",
       "      <td>NaN</td>\n",
       "      <td>NaN</td>\n",
       "    </tr>\n",
       "    <tr>\n",
       "      <th>3</th>\n",
       "      <td>AFG</td>\n",
       "      <td>Afghanistan</td>\n",
       "      <td>1952</td>\n",
       "      <td>0.092</td>\n",
       "      <td>0.012</td>\n",
       "      <td>NaN</td>\n",
       "      <td>NaN</td>\n",
       "      <td>NaN</td>\n",
       "      <td>0.032</td>\n",
       "      <td>0.004</td>\n",
       "      <td>...</td>\n",
       "      <td>NaN</td>\n",
       "      <td>NaN</td>\n",
       "      <td>NaN</td>\n",
       "      <td>NaN</td>\n",
       "      <td>NaN</td>\n",
       "      <td>7935996.0</td>\n",
       "      <td>1.001733e+10</td>\n",
       "      <td>NaN</td>\n",
       "      <td>NaN</td>\n",
       "      <td>NaN</td>\n",
       "    </tr>\n",
       "    <tr>\n",
       "      <th>4</th>\n",
       "      <td>AFG</td>\n",
       "      <td>Afghanistan</td>\n",
       "      <td>1953</td>\n",
       "      <td>0.106</td>\n",
       "      <td>0.013</td>\n",
       "      <td>NaN</td>\n",
       "      <td>NaN</td>\n",
       "      <td>NaN</td>\n",
       "      <td>0.038</td>\n",
       "      <td>0.005</td>\n",
       "      <td>...</td>\n",
       "      <td>NaN</td>\n",
       "      <td>NaN</td>\n",
       "      <td>NaN</td>\n",
       "      <td>NaN</td>\n",
       "      <td>NaN</td>\n",
       "      <td>8039684.0</td>\n",
       "      <td>1.063052e+10</td>\n",
       "      <td>NaN</td>\n",
       "      <td>NaN</td>\n",
       "      <td>NaN</td>\n",
       "    </tr>\n",
       "    <tr>\n",
       "      <th>...</th>\n",
       "      <td>...</td>\n",
       "      <td>...</td>\n",
       "      <td>...</td>\n",
       "      <td>...</td>\n",
       "      <td>...</td>\n",
       "      <td>...</td>\n",
       "      <td>...</td>\n",
       "      <td>...</td>\n",
       "      <td>...</td>\n",
       "      <td>...</td>\n",
       "      <td>...</td>\n",
       "      <td>...</td>\n",
       "      <td>...</td>\n",
       "      <td>...</td>\n",
       "      <td>...</td>\n",
       "      <td>...</td>\n",
       "      <td>...</td>\n",
       "      <td>...</td>\n",
       "      <td>...</td>\n",
       "      <td>...</td>\n",
       "      <td>...</td>\n",
       "    </tr>\n",
       "    <tr>\n",
       "      <th>25984</th>\n",
       "      <td>ZWE</td>\n",
       "      <td>Zimbabwe</td>\n",
       "      <td>2016</td>\n",
       "      <td>10.738</td>\n",
       "      <td>0.765</td>\n",
       "      <td>1.415</td>\n",
       "      <td>0.639</td>\n",
       "      <td>0.046</td>\n",
       "      <td>6.959</td>\n",
       "      <td>0.496</td>\n",
       "      <td>...</td>\n",
       "      <td>2.076</td>\n",
       "      <td>11.50</td>\n",
       "      <td>0.820</td>\n",
       "      <td>6.21</td>\n",
       "      <td>0.443</td>\n",
       "      <td>14030338.0</td>\n",
       "      <td>2.096179e+10</td>\n",
       "      <td>46.666</td>\n",
       "      <td>3326.073</td>\n",
       "      <td>2.226</td>\n",
       "    </tr>\n",
       "    <tr>\n",
       "      <th>25985</th>\n",
       "      <td>ZWE</td>\n",
       "      <td>Zimbabwe</td>\n",
       "      <td>2017</td>\n",
       "      <td>9.582</td>\n",
       "      <td>0.673</td>\n",
       "      <td>1.666</td>\n",
       "      <td>0.678</td>\n",
       "      <td>0.048</td>\n",
       "      <td>5.665</td>\n",
       "      <td>0.398</td>\n",
       "      <td>...</td>\n",
       "      <td>2.023</td>\n",
       "      <td>11.62</td>\n",
       "      <td>0.816</td>\n",
       "      <td>6.35</td>\n",
       "      <td>0.446</td>\n",
       "      <td>14236599.0</td>\n",
       "      <td>2.194784e+10</td>\n",
       "      <td>45.936</td>\n",
       "      <td>3226.617</td>\n",
       "      <td>2.093</td>\n",
       "    </tr>\n",
       "    <tr>\n",
       "      <th>25986</th>\n",
       "      <td>ZWE</td>\n",
       "      <td>Zimbabwe</td>\n",
       "      <td>2018</td>\n",
       "      <td>11.854</td>\n",
       "      <td>0.821</td>\n",
       "      <td>1.308</td>\n",
       "      <td>0.697</td>\n",
       "      <td>0.048</td>\n",
       "      <td>7.101</td>\n",
       "      <td>0.492</td>\n",
       "      <td>...</td>\n",
       "      <td>2.173</td>\n",
       "      <td>11.96</td>\n",
       "      <td>0.828</td>\n",
       "      <td>6.59</td>\n",
       "      <td>0.456</td>\n",
       "      <td>14438812.0</td>\n",
       "      <td>2.271535e+10</td>\n",
       "      <td>47.502</td>\n",
       "      <td>3289.887</td>\n",
       "      <td>2.091</td>\n",
       "    </tr>\n",
       "    <tr>\n",
       "      <th>25987</th>\n",
       "      <td>ZWE</td>\n",
       "      <td>Zimbabwe</td>\n",
       "      <td>2019</td>\n",
       "      <td>10.949</td>\n",
       "      <td>0.748</td>\n",
       "      <td>1.473</td>\n",
       "      <td>0.697</td>\n",
       "      <td>0.048</td>\n",
       "      <td>6.020</td>\n",
       "      <td>0.411</td>\n",
       "      <td>...</td>\n",
       "      <td>NaN</td>\n",
       "      <td>NaN</td>\n",
       "      <td>NaN</td>\n",
       "      <td>NaN</td>\n",
       "      <td>NaN</td>\n",
       "      <td>14645473.0</td>\n",
       "      <td>NaN</td>\n",
       "      <td>49.427</td>\n",
       "      <td>3374.877</td>\n",
       "      <td>NaN</td>\n",
       "    </tr>\n",
       "    <tr>\n",
       "      <th>25988</th>\n",
       "      <td>ZWE</td>\n",
       "      <td>Zimbabwe</td>\n",
       "      <td>2020</td>\n",
       "      <td>10.531</td>\n",
       "      <td>0.709</td>\n",
       "      <td>NaN</td>\n",
       "      <td>0.697</td>\n",
       "      <td>0.047</td>\n",
       "      <td>6.257</td>\n",
       "      <td>0.421</td>\n",
       "      <td>...</td>\n",
       "      <td>NaN</td>\n",
       "      <td>NaN</td>\n",
       "      <td>NaN</td>\n",
       "      <td>NaN</td>\n",
       "      <td>NaN</td>\n",
       "      <td>14862927.0</td>\n",
       "      <td>NaN</td>\n",
       "      <td>NaN</td>\n",
       "      <td>NaN</td>\n",
       "      <td>NaN</td>\n",
       "    </tr>\n",
       "  </tbody>\n",
       "</table>\n",
       "<p>25989 rows × 60 columns</p>\n",
       "</div>"
      ],
      "text/plain": [
       "      iso_code      country  year     co2  co2_per_capita  trade_co2  \\\n",
       "0          AFG  Afghanistan  1949   0.015           0.002        NaN   \n",
       "1          AFG  Afghanistan  1950   0.084           0.011        NaN   \n",
       "2          AFG  Afghanistan  1951   0.092           0.012        NaN   \n",
       "3          AFG  Afghanistan  1952   0.092           0.012        NaN   \n",
       "4          AFG  Afghanistan  1953   0.106           0.013        NaN   \n",
       "...        ...          ...   ...     ...             ...        ...   \n",
       "25984      ZWE     Zimbabwe  2016  10.738           0.765      1.415   \n",
       "25985      ZWE     Zimbabwe  2017   9.582           0.673      1.666   \n",
       "25986      ZWE     Zimbabwe  2018  11.854           0.821      1.308   \n",
       "25987      ZWE     Zimbabwe  2019  10.949           0.748      1.473   \n",
       "25988      ZWE     Zimbabwe  2020  10.531           0.709        NaN   \n",
       "\n",
       "       cement_co2  cement_co2_per_capita  coal_co2  coal_co2_per_capita  ...  \\\n",
       "0             NaN                    NaN     0.015                0.002  ...   \n",
       "1             NaN                    NaN     0.021                0.003  ...   \n",
       "2             NaN                    NaN     0.026                0.003  ...   \n",
       "3             NaN                    NaN     0.032                0.004  ...   \n",
       "4             NaN                    NaN     0.038                0.005  ...   \n",
       "...           ...                    ...       ...                  ...  ...   \n",
       "25984       0.639                  0.046     6.959                0.496  ...   \n",
       "25985       0.678                  0.048     5.665                0.398  ...   \n",
       "25986       0.697                  0.048     7.101                0.492  ...   \n",
       "25987       0.697                  0.048     6.020                0.411  ...   \n",
       "25988       0.697                  0.047     6.257                0.421  ...   \n",
       "\n",
       "       ghg_excluding_lucf_per_capita  methane  methane_per_capita  \\\n",
       "0                                NaN      NaN                 NaN   \n",
       "1                                NaN      NaN                 NaN   \n",
       "2                                NaN      NaN                 NaN   \n",
       "3                                NaN      NaN                 NaN   \n",
       "4                                NaN      NaN                 NaN   \n",
       "...                              ...      ...                 ...   \n",
       "25984                          2.076    11.50               0.820   \n",
       "25985                          2.023    11.62               0.816   \n",
       "25986                          2.173    11.96               0.828   \n",
       "25987                            NaN      NaN                 NaN   \n",
       "25988                            NaN      NaN                 NaN   \n",
       "\n",
       "       nitrous_oxide  nitrous_oxide_per_capita  population           gdp  \\\n",
       "0                NaN                       NaN   7624058.0           NaN   \n",
       "1                NaN                       NaN   7752117.0  9.421400e+09   \n",
       "2                NaN                       NaN   7840151.0  9.692280e+09   \n",
       "3                NaN                       NaN   7935996.0  1.001733e+10   \n",
       "4                NaN                       NaN   8039684.0  1.063052e+10   \n",
       "...              ...                       ...         ...           ...   \n",
       "25984           6.21                     0.443  14030338.0  2.096179e+10   \n",
       "25985           6.35                     0.446  14236599.0  2.194784e+10   \n",
       "25986           6.59                     0.456  14438812.0  2.271535e+10   \n",
       "25987            NaN                       NaN  14645473.0           NaN   \n",
       "25988            NaN                       NaN  14862927.0           NaN   \n",
       "\n",
       "       primary_energy_consumption  energy_per_capita  energy_per_gdp  \n",
       "0                             NaN                NaN             NaN  \n",
       "1                             NaN                NaN             NaN  \n",
       "2                             NaN                NaN             NaN  \n",
       "3                             NaN                NaN             NaN  \n",
       "4                             NaN                NaN             NaN  \n",
       "...                           ...                ...             ...  \n",
       "25984                      46.666           3326.073           2.226  \n",
       "25985                      45.936           3226.617           2.093  \n",
       "25986                      47.502           3289.887           2.091  \n",
       "25987                      49.427           3374.877             NaN  \n",
       "25988                         NaN                NaN             NaN  \n",
       "\n",
       "[25989 rows x 60 columns]"
      ]
     },
     "execution_count": 2,
     "metadata": {},
     "output_type": "execute_result"
    }
   ],
   "source": [
    "data = pd.read_csv('./owid-co2-data.csv')\n",
    "data"
   ]
  },
  {
   "cell_type": "code",
   "execution_count": 3,
   "id": "408fe526",
   "metadata": {},
   "outputs": [
    {
     "data": {
      "text/html": [
       "<div>\n",
       "<style scoped>\n",
       "    .dataframe tbody tr th:only-of-type {\n",
       "        vertical-align: middle;\n",
       "    }\n",
       "\n",
       "    .dataframe tbody tr th {\n",
       "        vertical-align: top;\n",
       "    }\n",
       "\n",
       "    .dataframe thead th {\n",
       "        text-align: right;\n",
       "    }\n",
       "</style>\n",
       "<table border=\"1\" class=\"dataframe\">\n",
       "  <thead>\n",
       "    <tr style=\"text-align: right;\">\n",
       "      <th></th>\n",
       "      <th>ISO 3166 Country Code</th>\n",
       "      <th>Country</th>\n",
       "      <th>Latitude</th>\n",
       "      <th>Longitude</th>\n",
       "    </tr>\n",
       "  </thead>\n",
       "  <tbody>\n",
       "    <tr>\n",
       "      <th>0</th>\n",
       "      <td>AD</td>\n",
       "      <td>Andorra</td>\n",
       "      <td>42.50</td>\n",
       "      <td>1.50</td>\n",
       "    </tr>\n",
       "    <tr>\n",
       "      <th>1</th>\n",
       "      <td>AE</td>\n",
       "      <td>United Arab Emirates</td>\n",
       "      <td>24.00</td>\n",
       "      <td>54.00</td>\n",
       "    </tr>\n",
       "    <tr>\n",
       "      <th>2</th>\n",
       "      <td>AF</td>\n",
       "      <td>Afghanistan</td>\n",
       "      <td>33.00</td>\n",
       "      <td>65.00</td>\n",
       "    </tr>\n",
       "    <tr>\n",
       "      <th>3</th>\n",
       "      <td>AG</td>\n",
       "      <td>Antigua and Barbuda</td>\n",
       "      <td>17.05</td>\n",
       "      <td>-61.80</td>\n",
       "    </tr>\n",
       "    <tr>\n",
       "      <th>4</th>\n",
       "      <td>AI</td>\n",
       "      <td>Anguilla</td>\n",
       "      <td>18.25</td>\n",
       "      <td>-63.17</td>\n",
       "    </tr>\n",
       "    <tr>\n",
       "      <th>...</th>\n",
       "      <td>...</td>\n",
       "      <td>...</td>\n",
       "      <td>...</td>\n",
       "      <td>...</td>\n",
       "    </tr>\n",
       "    <tr>\n",
       "      <th>235</th>\n",
       "      <td>YE</td>\n",
       "      <td>Yemen</td>\n",
       "      <td>15.00</td>\n",
       "      <td>48.00</td>\n",
       "    </tr>\n",
       "    <tr>\n",
       "      <th>236</th>\n",
       "      <td>YT</td>\n",
       "      <td>Mayotte</td>\n",
       "      <td>-12.83</td>\n",
       "      <td>45.17</td>\n",
       "    </tr>\n",
       "    <tr>\n",
       "      <th>237</th>\n",
       "      <td>ZA</td>\n",
       "      <td>South Africa</td>\n",
       "      <td>-29.00</td>\n",
       "      <td>24.00</td>\n",
       "    </tr>\n",
       "    <tr>\n",
       "      <th>238</th>\n",
       "      <td>ZM</td>\n",
       "      <td>Zambia</td>\n",
       "      <td>-15.00</td>\n",
       "      <td>30.00</td>\n",
       "    </tr>\n",
       "    <tr>\n",
       "      <th>239</th>\n",
       "      <td>ZW</td>\n",
       "      <td>Zimbabwe</td>\n",
       "      <td>-20.00</td>\n",
       "      <td>30.00</td>\n",
       "    </tr>\n",
       "  </tbody>\n",
       "</table>\n",
       "<p>240 rows × 4 columns</p>\n",
       "</div>"
      ],
      "text/plain": [
       "    ISO 3166 Country Code               Country  Latitude  Longitude\n",
       "0                      AD               Andorra     42.50       1.50\n",
       "1                      AE  United Arab Emirates     24.00      54.00\n",
       "2                      AF           Afghanistan     33.00      65.00\n",
       "3                      AG   Antigua and Barbuda     17.05     -61.80\n",
       "4                      AI              Anguilla     18.25     -63.17\n",
       "..                    ...                   ...       ...        ...\n",
       "235                    YE                 Yemen     15.00      48.00\n",
       "236                    YT               Mayotte    -12.83      45.17\n",
       "237                    ZA          South Africa    -29.00      24.00\n",
       "238                    ZM                Zambia    -15.00      30.00\n",
       "239                    ZW              Zimbabwe    -20.00      30.00\n",
       "\n",
       "[240 rows x 4 columns]"
      ]
     },
     "execution_count": 3,
     "metadata": {},
     "output_type": "execute_result"
    }
   ],
   "source": [
    "data_location = pd.read_csv('country_location.csv')\n",
    "data_location"
   ]
  },
  {
   "cell_type": "code",
   "execution_count": 4,
   "id": "57c6df84",
   "metadata": {},
   "outputs": [
    {
     "data": {
      "application/vnd.jupyter.widget-view+json": {
       "model_id": "31ea98d34bf14e548f436e111980fe5f",
       "version_major": 2,
       "version_minor": 0
      },
      "text/plain": [
       "  0%|          | 0/25989 [00:00<?, ?it/s]"
      ]
     },
     "metadata": {},
     "output_type": "display_data"
    }
   ],
   "source": [
    "from tqdm.notebook import tqdm, trange\n",
    "latitude = []\n",
    "long = []\n",
    "for i in tqdm(data[\"country\"]):\n",
    "    try:\n",
    "        idx = pd.Index(data_location['Country']).get_loc(i)\n",
    "        latitude.append(data_location['Latitude'][idx]) #, location.longitude)\n",
    "        long.append(data_location['Longitude'][idx])\n",
    "    except:\n",
    "        latitude.append(float(\"Nan\"))#, location.longitude)\n",
    "        long.append(float(\"Nan\"))"
   ]
  },
  {
   "cell_type": "code",
   "execution_count": 5,
   "id": "1c5bb581",
   "metadata": {},
   "outputs": [],
   "source": [
    "data['longitude']=long\n",
    "data['latitude']=latitude\n",
    "data_new = data[data['latitude'].notna()]\n",
    "#data = data[np.logical_not(np.isnan(data['co2'])) or data['co2'].notna()].reset_index()"
   ]
  },
  {
   "cell_type": "code",
   "execution_count": 6,
   "id": "9a783796",
   "metadata": {},
   "outputs": [],
   "source": [
    "def pointMap(year, attribute):\n",
    "    attribute = 'co2'\n",
    "    data_year = data_new[data_new['year']==year].reset_index()\n",
    "    data_year = data_year[data_year[attribute].notna()].reset_index()\n",
    "    m = folium.Map(location=[0, 0], \n",
    "               zoom_start=2.5,\n",
    "               tiles = 'Stamen Terrain')\n",
    "\n",
    "    for i in range(len(data_year)):\n",
    "        folium.CircleMarker(\n",
    "            location=[data_year['latitude'][i], data_year['longitude'][i]],\n",
    "            radius=4*log10(data_year[attribute][i]+10),\n",
    "            #popup=str(data_2000['co2'][i]),\n",
    "            popup=data_year['country'][i]+\" \"+str(data_year[attribute][i]),\n",
    "            color=\"#3186cc\",\n",
    "            fill=True,\n",
    "            fill_color=\"#3186cc\",\n",
    "        ).add_to(m)\n",
    "        \n",
    "    display(m)   \n",
    "\n",
    "\n",
    "def heatMap(year, attribute):\n",
    "    data_year = data_new[data_new['year']==year].reset_index()\n",
    "    data_year = data_year[data_year[attribute].notna()].reset_index()\n",
    "    m = folium.Map(location=[0, 0], \n",
    "                zoom_start=2.5,\n",
    "                tiles = 'Stamen Terrain')\n",
    "    heat_data = data_year[['latitude','longitude',attribute]]\n",
    "    heat_data\n",
    "    hm = plugins.HeatMap(heat_data,auto_play=True,max_opacity=1)\n",
    "    hm.add_to(m)\n",
    "    display(m) "
   ]
  },
  {
   "cell_type": "code",
   "execution_count": 7,
   "id": "80849a55",
   "metadata": {},
   "outputs": [
    {
     "data": {
      "application/vnd.jupyter.widget-view+json": {
       "model_id": "d2225a27ef17425f9e8f0ccb07b1f9f1",
       "version_major": 2,
       "version_minor": 0
      },
      "text/plain": [
       "interactive(children=(Dropdown(description='year', options=(1980, 1981, 1982, 1983, 1984, 1985, 1986, 1987, 19…"
      ]
     },
     "metadata": {},
     "output_type": "display_data"
    },
    {
     "data": {
      "text/plain": [
       "<function __main__.pointMap(year, attribute)>"
      ]
     },
     "execution_count": 7,
     "metadata": {},
     "output_type": "execute_result"
    }
   ],
   "source": [
    "from ipywidgets import interact, interactive, fixed, interact_manual\n",
    "x = [i for i in range(1980,2020)]\n",
    "list_attributes=list(data.columns[3:-2])\n",
    "interact(pointMap, year=x, attribute=list_attributes)"
   ]
  },
  {
   "cell_type": "code",
   "execution_count": 8,
   "id": "ce574331",
   "metadata": {},
   "outputs": [
    {
     "data": {
      "application/vnd.jupyter.widget-view+json": {
       "model_id": "29e8d5a3a86546b5af55fde6c463ff9d",
       "version_major": 2,
       "version_minor": 0
      },
      "text/plain": [
       "interactive(children=(Dropdown(description='year', options=(1980, 1981, 1982, 1983, 1984, 1985, 1986, 1987, 19…"
      ]
     },
     "metadata": {},
     "output_type": "display_data"
    },
    {
     "data": {
      "text/plain": [
       "<function __main__.heatMap(year, attribute)>"
      ]
     },
     "execution_count": 8,
     "metadata": {},
     "output_type": "execute_result"
    }
   ],
   "source": [
    "interact(heatMap, year=x, attribute=list_attributes)"
   ]
  },
  {
   "cell_type": "code",
   "execution_count": 9,
   "id": "dbc8324b",
   "metadata": {},
   "outputs": [
    {
     "data": {
      "application/vnd.jupyter.widget-view+json": {
       "model_id": "53a0608a787a423ca5def5a269087341",
       "version_major": 2,
       "version_minor": 0
      },
      "text/plain": [
       "interactive(children=(IntSlider(value=2000, description='year', max=2020, min=1980, step=2), Dropdown(descript…"
      ]
     },
     "metadata": {},
     "output_type": "display_data"
    },
    {
     "data": {
      "text/plain": [
       "<function __main__.heatMap(year, attribute)>"
      ]
     },
     "execution_count": 9,
     "metadata": {},
     "output_type": "execute_result"
    }
   ],
   "source": [
    "interact(heatMap, year=(1980,2020,2), attribute=list_attributes)"
   ]
  },
  {
   "cell_type": "code",
   "execution_count": 13,
   "id": "d3c11c39",
   "metadata": {},
   "outputs": [
    {
     "data": {
      "application/vnd.jupyter.widget-view+json": {
       "model_id": "1ce7556333cd49e39c28f35746603531",
       "version_major": 2,
       "version_minor": 0
      },
      "text/plain": [
       "  0%|          | 0/2480 [00:00<?, ?it/s]"
      ]
     },
     "metadata": {},
     "output_type": "display_data"
    }
   ],
   "source": [
    "data_pred=pd.read_csv('co2_predictions.csv')\n",
    "latitude = []\n",
    "long = []\n",
    "for i in tqdm(data_pred[\"country\"]):\n",
    "    try:\n",
    "        idx = pd.Index(data_location['Country']).get_loc(i)\n",
    "        latitude.append(data_location['Latitude'][idx]) #, location.longitude)\n",
    "        long.append(data_location['Longitude'][idx])\n",
    "    except:\n",
    "        latitude.append(float(\"Nan\"))#, location.longitude)\n",
    "        long.append(float(\"Nan\"))\n",
    "data_pred['longitude']=long\n",
    "data_pred['latitude']=latitude\n",
    "data_pred = data_pred[data_pred['latitude'].notna()]"
   ]
  },
  {
   "cell_type": "code",
   "execution_count": 11,
   "id": "7788f261",
   "metadata": {},
   "outputs": [],
   "source": [
    "def heatMapPred(year, attribute):\n",
    "    data_year = data_pred[data_pred['year']==year]\n",
    "    data_year = data_year[data_year[attribute].notna()].reset_index()\n",
    "    m = folium.Map(location=[0, 0], \n",
    "                zoom_start=2.5,\n",
    "                tiles = 'Stamen Terrain')\n",
    "    heat_data = data_year[['latitude','longitude',attribute]]\n",
    "    heat_data\n",
    "    hm = plugins.HeatMap(heat_data,auto_play=True,max_opacity=1)\n",
    "    hm.add_to(m)\n",
    "    display(m)"
   ]
  },
  {
   "cell_type": "code",
   "execution_count": 12,
   "id": "50d5fa7c",
   "metadata": {},
   "outputs": [
    {
     "data": {
      "application/vnd.jupyter.widget-view+json": {
       "model_id": "a116d37655ee4bee916152155cb2d59c",
       "version_major": 2,
       "version_minor": 0
      },
      "text/plain": [
       "interactive(children=(IntSlider(value=2025, description='year', max=2030, min=2020), Text(value='co2', descrip…"
      ]
     },
     "metadata": {},
     "output_type": "display_data"
    },
    {
     "data": {
      "text/plain": [
       "<function __main__.heatMapPred(year, attribute)>"
      ]
     },
     "execution_count": 12,
     "metadata": {},
     "output_type": "execute_result"
    }
   ],
   "source": [
    "interact(heatMapPred, year=(2020,2030,1), attribute='co2')"
   ]
  },
  {
   "cell_type": "code",
   "execution_count": 25,
   "id": "7fd7032b",
   "metadata": {},
   "outputs": [
    {
     "data": {
      "image/png": "[encoded data removed]",
      "text/plain": [
       "<Figure size 432x288 with 1 Axes>"
      ]
     },
     "metadata": {
      "needs_background": "light"
     },
     "output_type": "display_data"
    }
   ],
   "source": [
    "import matplotlib.pyplot as plt\n",
    "\n",
    "countries = data_new['country'].drop_duplicates()\n",
    "countries\n",
    "\n",
    "country = 'Colombia'\n",
    "dat_country = data_new[data_new['country']==country]\n",
    "dat_country = dat_country[dat_country['year']>=1950]\n",
    "dat_country_pred = data_pred[data_pred['country']==country]\n",
    "dat_country_pred\n",
    "plt.plot(dat_country['year'],dat_country['co2'])\n",
    "plt.xlabel('Year')\n",
    "plt.ylabel('co2')\n",
    "plt.plot(dat_country_pred['year'],dat_country_pred['co2'])\n",
    "plt.show()"
   ]
  },
  {
   "cell_type": "code",
   "execution_count": 33,
   "id": "e331197a",
   "metadata": {},
   "outputs": [],
   "source": [
    "countries = data_new['country'].drop_duplicates()\n",
    "countries\n",
    "def plotPred(country):\n",
    "    dat_country = data_new[data_new['country']==country]\n",
    "    dat_country = dat_country[dat_country['year']>=1950]\n",
    "    dat_country_pred = data_pred[data_pred['country']==country]\n",
    "    dat_country_pred\n",
    "    plt.plot(dat_country['year'],dat_country['co2'],linewidth=2)\n",
    "    plt.xlabel('Year')\n",
    "    plt.ylabel('co2')\n",
    "    plt.plot(dat_country_pred['year'],dat_country_pred['co2'],linewidth=2)\n",
    "    plt.legend(['Observed values','Predicted values'])\n",
    "    plt.show()"
   ]
  },
  {
   "cell_type": "code",
   "execution_count": 34,
   "id": "77e9df60",
   "metadata": {},
   "outputs": [
    {
     "data": {
      "application/vnd.jupyter.widget-view+json": {
       "model_id": "2158dc9a9100428b9f69605b70bac5b7",
       "version_major": 2,
       "version_minor": 0
      },
      "text/plain": [
       "interactive(children=(Dropdown(description='country', options=('Afghanistan', 'Albania', 'Algeria', 'Andorra',…"
      ]
     },
     "metadata": {},
     "output_type": "display_data"
    },
    {
     "data": {
      "text/plain": [
       "<function __main__.plotPred(country)>"
      ]
     },
     "execution_count": 34,
     "metadata": {},
     "output_type": "execute_result"
    }
   ],
   "source": [
    "plt.rcParams['figure.figsize'] = [12, 5]\n",
    "interact(plotPred, country=countries)"
   ]
  }
 ],
 "metadata": {
  "kernelspec": {
   "display_name": "Python 3 (ipykernel)",
   "language": "python",
   "name": "python3"
  },
  "language_info": {
   "codemirror_mode": {
    "name": "ipython",
    "version": 3
   },
   "file_extension": ".py",
   "mimetype": "text/x-python",
   "name": "python",
   "nbconvert_exporter": "python",
   "pygments_lexer": "ipython3",
   "version": "3.7.11"
  }
 },
 "nbformat": 4,
 "nbformat_minor": 5
}
